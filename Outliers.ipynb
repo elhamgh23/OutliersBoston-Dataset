{
  "cells": [
    {
      "cell_type": "markdown",
      "metadata": {
        "id": "K5BcIxyuvgYg"
      },
      "source": [
        "# Outliers 👨🏻‍💻\n",
        "---\n",
        "## Session 4  Agenda\n",
        "* [About dataset]()\n",
        "* [Load required libraries]()\n",
        "* [Load `Boston Dataset`]()\n",
        "* [Detecting the outliers]()\n",
        "  * 1.Visualization\n",
        "    *  Example 1: Using Box Plot\n",
        "    *  Example 2: Using ScatterPlot\n",
        "  * 2.`Z-score`\n",
        "  * 3.`IQR` (Inter Quartile Range)\n",
        "* [Removing the Outliers]()\n",
        "* [Visualization of Outliers]()\n",
        "* [Usefull NOTES To Read]()"
      ]
    },
    {
      "cell_type": "markdown",
      "metadata": {
        "id": "nUqXBVQwvgYi"
      },
      "source": [
        "## *`About dataset`* ##\n",
        "---\n",
        "- So, Let’s get start. We will be using `Boston House Pricing Dataset` which is included in the sklearn dataset API. We will load the dataset and separate out the features and targets."
      ]
    },
    {
      "cell_type": "markdown",
      "metadata": {
        "id": "RGr-y4DTvgYj"
      },
      "source": [
        "### *Load required libraries*:\n"
      ]
    },
    {
      "cell_type": "code",
      "execution_count": null,
      "metadata": {
        "id": "QZMDOd3FvgYj",
        "outputId": "9ca84d9d-0956-4e01-b023-5c388eb988ef"
      },
      "outputs": [
        {
          "ename": "ImportError",
          "evalue": "\n`load_boston` has been removed from scikit-learn since version 1.2.\n\nThe Boston housing prices dataset has an ethical problem: as\ninvestigated in [1], the authors of this dataset engineered a\nnon-invertible variable \"B\" assuming that racial self-segregation had a\npositive impact on house prices [2]. Furthermore the goal of the\nresearch that led to the creation of this dataset was to study the\nimpact of air quality but it did not give adequate demonstration of the\nvalidity of this assumption.\n\nThe scikit-learn maintainers therefore strongly discourage the use of\nthis dataset unless the purpose of the code is to study and educate\nabout ethical issues in data science and machine learning.\n\nIn this special case, you can fetch the dataset from the original\nsource::\n\n    import pandas as pd\n    import numpy as np\n\n    data_url = \"http://lib.stat.cmu.edu/datasets/boston\"\n    raw_df = pd.read_csv(data_url, sep=\"\\s+\", skiprows=22, header=None)\n    data = np.hstack([raw_df.values[::2, :], raw_df.values[1::2, :2]])\n    target = raw_df.values[1::2, 2]\n\nAlternative datasets include the California housing dataset and the\nAmes housing dataset. You can load the datasets as follows::\n\n    from sklearn.datasets import fetch_california_housing\n    housing = fetch_california_housing()\n\nfor the California housing dataset and::\n\n    from sklearn.datasets import fetch_openml\n    housing = fetch_openml(name=\"house_prices\", as_frame=True)\n\nfor the Ames housing dataset.\n\n[1] M Carlisle.\n\"Racist data destruction?\"\n<https://medium.com/@docintangible/racist-data-destruction-113e3eff54a8>\n\n[2] Harrison Jr, David, and Daniel L. Rubinfeld.\n\"Hedonic housing prices and the demand for clean air.\"\nJournal of environmental economics and management 5.1 (1978): 81-102.\n<https://www.researchgate.net/publication/4974606_Hedonic_housing_prices_and_the_demand_for_clean_air>\n",
          "output_type": "error",
          "traceback": [
            "\u001b[1;31m---------------------------------------------------------------------------\u001b[0m",
            "\u001b[1;31mImportError\u001b[0m                               Traceback (most recent call last)",
            "Cell \u001b[1;32mIn[1], line 2\u001b[0m\n\u001b[0;32m      1\u001b[0m \u001b[38;5;28;01mimport\u001b[39;00m \u001b[38;5;21;01msklearn\u001b[39;00m\n\u001b[1;32m----> 2\u001b[0m \u001b[38;5;28;01mfrom\u001b[39;00m \u001b[38;5;21;01msklearn\u001b[39;00m\u001b[38;5;21;01m.\u001b[39;00m\u001b[38;5;21;01mdatasets\u001b[39;00m \u001b[38;5;28;01mimport\u001b[39;00m load_boston\n\u001b[0;32m      3\u001b[0m \u001b[38;5;28;01mimport\u001b[39;00m \u001b[38;5;21;01mpandas\u001b[39;00m \u001b[38;5;28;01mas\u001b[39;00m \u001b[38;5;21;01mpd\u001b[39;00m\n\u001b[0;32m      4\u001b[0m \u001b[38;5;28;01mimport\u001b[39;00m \u001b[38;5;21;01mnumpy\u001b[39;00m \u001b[38;5;28;01mas\u001b[39;00m \u001b[38;5;21;01mnp\u001b[39;00m\n",
            "File \u001b[1;32m~\\AppData\\Local\\anaconda3\\lib\\site-packages\\sklearn\\datasets\\__init__.py:156\u001b[0m, in \u001b[0;36m__getattr__\u001b[1;34m(name)\u001b[0m\n\u001b[0;32m    105\u001b[0m \u001b[38;5;28;01mif\u001b[39;00m name \u001b[38;5;241m==\u001b[39m \u001b[38;5;124m\"\u001b[39m\u001b[38;5;124mload_boston\u001b[39m\u001b[38;5;124m\"\u001b[39m:\n\u001b[0;32m    106\u001b[0m     msg \u001b[38;5;241m=\u001b[39m textwrap\u001b[38;5;241m.\u001b[39mdedent(\n\u001b[0;32m    107\u001b[0m         \u001b[38;5;124;03m\"\"\"\u001b[39;00m\n\u001b[0;32m    108\u001b[0m \u001b[38;5;124;03m        `load_boston` has been removed from scikit-learn since version 1.2.\u001b[39;00m\n\u001b[1;32m   (...)\u001b[0m\n\u001b[0;32m    154\u001b[0m \u001b[38;5;124;03m        \"\"\"\u001b[39;00m\n\u001b[0;32m    155\u001b[0m     )\n\u001b[1;32m--> 156\u001b[0m     \u001b[38;5;28;01mraise\u001b[39;00m \u001b[38;5;167;01mImportError\u001b[39;00m(msg)\n\u001b[0;32m    157\u001b[0m \u001b[38;5;28;01mtry\u001b[39;00m:\n\u001b[0;32m    158\u001b[0m     \u001b[38;5;28;01mreturn\u001b[39;00m \u001b[38;5;28mglobals\u001b[39m()[name]\n",
            "\u001b[1;31mImportError\u001b[0m: \n`load_boston` has been removed from scikit-learn since version 1.2.\n\nThe Boston housing prices dataset has an ethical problem: as\ninvestigated in [1], the authors of this dataset engineered a\nnon-invertible variable \"B\" assuming that racial self-segregation had a\npositive impact on house prices [2]. Furthermore the goal of the\nresearch that led to the creation of this dataset was to study the\nimpact of air quality but it did not give adequate demonstration of the\nvalidity of this assumption.\n\nThe scikit-learn maintainers therefore strongly discourage the use of\nthis dataset unless the purpose of the code is to study and educate\nabout ethical issues in data science and machine learning.\n\nIn this special case, you can fetch the dataset from the original\nsource::\n\n    import pandas as pd\n    import numpy as np\n\n    data_url = \"http://lib.stat.cmu.edu/datasets/boston\"\n    raw_df = pd.read_csv(data_url, sep=\"\\s+\", skiprows=22, header=None)\n    data = np.hstack([raw_df.values[::2, :], raw_df.values[1::2, :2]])\n    target = raw_df.values[1::2, 2]\n\nAlternative datasets include the California housing dataset and the\nAmes housing dataset. You can load the datasets as follows::\n\n    from sklearn.datasets import fetch_california_housing\n    housing = fetch_california_housing()\n\nfor the California housing dataset and::\n\n    from sklearn.datasets import fetch_openml\n    housing = fetch_openml(name=\"house_prices\", as_frame=True)\n\nfor the Ames housing dataset.\n\n[1] M Carlisle.\n\"Racist data destruction?\"\n<https://medium.com/@docintangible/racist-data-destruction-113e3eff54a8>\n\n[2] Harrison Jr, David, and Daniel L. Rubinfeld.\n\"Hedonic housing prices and the demand for clean air.\"\nJournal of environmental economics and management 5.1 (1978): 81-102.\n<https://www.researchgate.net/publication/4974606_Hedonic_housing_prices_and_the_demand_for_clean_air>\n"
          ]
        }
      ],
      "source": [
        "import sklearn\n",
        "from sklearn.datasets import load_boston\n",
        "import pandas as pd\n",
        "import numpy as np\n",
        "import matplotlib.pyplot as plt\n",
        "import seaborn as sns"
      ]
    },
    {
      "cell_type": "code",
      "execution_count": null,
      "metadata": {
        "id": "vgLfsZS2vgYk"
      },
      "outputs": [],
      "source": [
        "from sklearn.datasets import fetch_openml\n",
        "housing = fetch_openml(name=\"house_prices\", as_frame=True)"
      ]
    },
    {
      "cell_type": "markdown",
      "metadata": {
        "id": "RP9kX6wKvgYl"
      },
      "source": [
        "### *Load `Boston Dataset`*"
      ]
    },
    {
      "cell_type": "code",
      "execution_count": null,
      "metadata": {
        "id": "SihFxDs8vgYl",
        "outputId": "dc3fc086-08cc-45bb-d889-bba6c40849ae"
      },
      "outputs": [
        {
          "data": {
            "text/html": [
              "<div>\n",
              "<style scoped>\n",
              "    .dataframe tbody tr th:only-of-type {\n",
              "        vertical-align: middle;\n",
              "    }\n",
              "\n",
              "    .dataframe tbody tr th {\n",
              "        vertical-align: top;\n",
              "    }\n",
              "\n",
              "    .dataframe thead th {\n",
              "        text-align: right;\n",
              "    }\n",
              "</style>\n",
              "<table border=\"1\" class=\"dataframe\">\n",
              "  <thead>\n",
              "    <tr style=\"text-align: right;\">\n",
              "      <th></th>\n",
              "      <th>CRIM</th>\n",
              "      <th>ZN</th>\n",
              "      <th>INDUS</th>\n",
              "      <th>CHAS</th>\n",
              "      <th>NOX</th>\n",
              "      <th>RM</th>\n",
              "      <th>AGE</th>\n",
              "      <th>DIS</th>\n",
              "      <th>RAD</th>\n",
              "      <th>TAX</th>\n",
              "      <th>PTRATIO</th>\n",
              "      <th>B</th>\n",
              "      <th>LSTAT</th>\n",
              "    </tr>\n",
              "  </thead>\n",
              "  <tbody>\n",
              "    <tr>\n",
              "      <th>0</th>\n",
              "      <td>0.00632</td>\n",
              "      <td>18.0</td>\n",
              "      <td>2.31</td>\n",
              "      <td>0.0</td>\n",
              "      <td>0.538</td>\n",
              "      <td>6.575</td>\n",
              "      <td>65.2</td>\n",
              "      <td>4.0900</td>\n",
              "      <td>1.0</td>\n",
              "      <td>296.0</td>\n",
              "      <td>15.3</td>\n",
              "      <td>396.90</td>\n",
              "      <td>4.98</td>\n",
              "    </tr>\n",
              "    <tr>\n",
              "      <th>1</th>\n",
              "      <td>0.02731</td>\n",
              "      <td>0.0</td>\n",
              "      <td>7.07</td>\n",
              "      <td>0.0</td>\n",
              "      <td>0.469</td>\n",
              "      <td>6.421</td>\n",
              "      <td>78.9</td>\n",
              "      <td>4.9671</td>\n",
              "      <td>2.0</td>\n",
              "      <td>242.0</td>\n",
              "      <td>17.8</td>\n",
              "      <td>396.90</td>\n",
              "      <td>9.14</td>\n",
              "    </tr>\n",
              "    <tr>\n",
              "      <th>2</th>\n",
              "      <td>0.02729</td>\n",
              "      <td>0.0</td>\n",
              "      <td>7.07</td>\n",
              "      <td>0.0</td>\n",
              "      <td>0.469</td>\n",
              "      <td>7.185</td>\n",
              "      <td>61.1</td>\n",
              "      <td>4.9671</td>\n",
              "      <td>2.0</td>\n",
              "      <td>242.0</td>\n",
              "      <td>17.8</td>\n",
              "      <td>392.83</td>\n",
              "      <td>4.03</td>\n",
              "    </tr>\n",
              "    <tr>\n",
              "      <th>3</th>\n",
              "      <td>0.03237</td>\n",
              "      <td>0.0</td>\n",
              "      <td>2.18</td>\n",
              "      <td>0.0</td>\n",
              "      <td>0.458</td>\n",
              "      <td>6.998</td>\n",
              "      <td>45.8</td>\n",
              "      <td>6.0622</td>\n",
              "      <td>3.0</td>\n",
              "      <td>222.0</td>\n",
              "      <td>18.7</td>\n",
              "      <td>394.63</td>\n",
              "      <td>2.94</td>\n",
              "    </tr>\n",
              "    <tr>\n",
              "      <th>4</th>\n",
              "      <td>0.06905</td>\n",
              "      <td>0.0</td>\n",
              "      <td>2.18</td>\n",
              "      <td>0.0</td>\n",
              "      <td>0.458</td>\n",
              "      <td>7.147</td>\n",
              "      <td>54.2</td>\n",
              "      <td>6.0622</td>\n",
              "      <td>3.0</td>\n",
              "      <td>222.0</td>\n",
              "      <td>18.7</td>\n",
              "      <td>396.90</td>\n",
              "      <td>5.33</td>\n",
              "    </tr>\n",
              "  </tbody>\n",
              "</table>\n",
              "</div>"
            ],
            "text/plain": [
              "      CRIM    ZN  INDUS  CHAS    NOX     RM   AGE     DIS  RAD    TAX  \\\n",
              "0  0.00632  18.0   2.31   0.0  0.538  6.575  65.2  4.0900  1.0  296.0   \n",
              "1  0.02731   0.0   7.07   0.0  0.469  6.421  78.9  4.9671  2.0  242.0   \n",
              "2  0.02729   0.0   7.07   0.0  0.469  7.185  61.1  4.9671  2.0  242.0   \n",
              "3  0.03237   0.0   2.18   0.0  0.458  6.998  45.8  6.0622  3.0  222.0   \n",
              "4  0.06905   0.0   2.18   0.0  0.458  7.147  54.2  6.0622  3.0  222.0   \n",
              "\n",
              "   PTRATIO       B  LSTAT  \n",
              "0     15.3  396.90   4.98  \n",
              "1     17.8  396.90   9.14  \n",
              "2     17.8  392.83   4.03  \n",
              "3     18.7  394.63   2.94  \n",
              "4     18.7  396.90   5.33  "
            ]
          },
          "execution_count": 2,
          "metadata": {},
          "output_type": "execute_result"
        }
      ],
      "source": [
        "boston = load_boston()\n",
        "x = boston.data\n",
        "y = boston.target\n",
        "columns = boston.feature_names\n",
        "#create the dataframe\n",
        "df_boston = pd.DataFrame(boston.data)\n",
        "df_boston.columns = columns\n",
        "df_boston.head()"
      ]
    },
    {
      "cell_type": "markdown",
      "metadata": {
        "id": "64-fOSHavgYl"
      },
      "source": [
        "## *`Detecting the outliers`*\n",
        "---\n",
        "- **Outliers can be detected using visualization, implementing mathematical formulas on the dataset, or using the statistical approach. All of these are discussed below.**"
      ]
    },
    {
      "cell_type": "markdown",
      "metadata": {
        "id": "Fat5hNSAvgYm"
      },
      "source": [
        "## 1. *`Visualization`*\n",
        "---\n",
        "\n",
        "### ***Example 1: Using Box Plot***\n",
        "\n",
        "It captures the summary of the data effectively and efficiently with only a simple box and whiskers. Boxplot summarizes sample data using 25th, 50th, and 75th percentiles. One can just get insights(quartiles, median, and outliers) into the dataset by just looking at its boxplot"
      ]
    },
    {
      "cell_type": "code",
      "execution_count": null,
      "metadata": {
        "id": "QPdtf1Y0vgYm",
        "outputId": "907a79f7-88f1-4da4-ba8f-ca70860bb9eb"
      },
      "outputs": [
        {
          "name": "stderr",
          "output_type": "stream",
          "text": [
            "C:\\Users\\Asset\\anaconda3\\lib\\site-packages\\seaborn\\_decorators.py:36: FutureWarning: Pass the following variable as a keyword arg: x. From version 0.12, the only valid positional argument will be `data`, and passing other arguments without an explicit keyword will result in an error or misinterpretation.\n",
            "  warnings.warn(\n"
          ]
        },
        {
          "data": {
            "image/png": "[encoded data removed]",
            "text/plain": [
              "<Figure size 432x288 with 1 Axes>"
            ]
          },
          "metadata": {
            "needs_background": "light"
          },
          "output_type": "display_data"
        }
      ],
      "source": [
        "# Box Plot\n",
        "\n",
        "sns.boxplot(df_boston['DIS']) ;"
      ]
    },
    {
      "cell_type": "code",
      "execution_count": null,
      "metadata": {
        "id": "ygWM6hb4vgYm",
        "outputId": "f896a67a-8a8c-40d4-f42e-4f6ec4da15f4"
      },
      "outputs": [
        {
          "name": "stdout",
          "output_type": "stream",
          "text": [
            "9.65945\n"
          ]
        }
      ],
      "source": [
        "q1 = df_boston[df_boston['DIS']<10]['DIS'].quantile(0.25)\n",
        "q3 = df_boston[df_boston['DIS']<10]['DIS'].quantile(0.75)\n",
        "iqr = q3 - q1\n",
        "max1 = q3 + (1.5 * iqr)\n",
        "print(max1)"
      ]
    },
    {
      "cell_type": "markdown",
      "metadata": {
        "id": "LP6AoQ0uvgYn"
      },
      "source": [
        " **NOTE😉** :\n",
        " - **In the above graph, can clearly see that values above 10 are acting as the outliers.**"
      ]
    },
    {
      "cell_type": "code",
      "execution_count": null,
      "metadata": {
        "id": "xjxp0ByQvgYn",
        "outputId": "1e780352-10a4-4530-c821-8e9c517a1df0"
      },
      "outputs": [
        {
          "name": "stdout",
          "output_type": "stream",
          "text": [
            "(array([351, 352, 353, 354, 355], dtype=int64),)\n"
          ]
        }
      ],
      "source": [
        "# Position of the Outlier\n",
        "print(np.where(df_boston['DIS']>10))"
      ]
    },
    {
      "cell_type": "markdown",
      "metadata": {
        "id": "wZ-05_kGvgYn"
      },
      "source": [
        "### ***Example 2: Using ScatterPlot.***\n",
        "\n",
        "It is used when you have paired numerical data, or when your dependent variable has multiple values for each reading independent variable, or when trying to determine the relationship between the two variables. In the process of utilizing the scatter plot, one can also use it for outlier detection."
      ]
    },
    {
      "cell_type": "markdown",
      "metadata": {
        "id": "9ftexBRIvgYn"
      },
      "source": [
        "To plot the scatter plot one requires two variables that are somehow related to each other. So here, ‘Proportion of non-retail business acres per town’ and ‘Full-value property-tax rate per $10,000’ are used whose column names are “INDUS” and “TAX” respectively."
      ]
    },
    {
      "cell_type": "code",
      "execution_count": null,
      "metadata": {
        "id": "fznflwBJvgYn",
        "outputId": "dd7285ef-f666-47e0-b13c-99c131834ef0"
      },
      "outputs": [
        {
          "data": {
            "image/png": "[encoded data removed]",
            "text/plain": [
              "<Figure size 1008x720 with 1 Axes>"
            ]
          },
          "metadata": {
            "needs_background": "light"
          },
          "output_type": "display_data"
        }
      ],
      "source": [
        "# Scatter plot\n",
        "fig, ax = plt.subplots(figsize = (14,10))\n",
        "ax.scatter(df_boston['INDUS'], df_boston['TAX'])\n",
        "\n",
        "# x-axis label\n",
        "ax.set_xlabel('(Proportion non-retail business acres)/(town)')\n",
        "\n",
        "# y-axis label\n",
        "ax.set_ylabel('(Full-value property-tax rate)/( $10,000)')\n",
        "plt.show()"
      ]
    },
    {
      "cell_type": "markdown",
      "metadata": {
        "id": "INaMHZLQvgYo"
      },
      "source": [
        " **NOTE😉** :\n",
        " - **Looking at the graph can summarize that most of the data points are in the bottom left corner of the graph but there are few points that are exactly;y opposite that is the top right corner of the graph. Those points in the top right corner can be regarded as Outliers.**\n",
        "\n",
        " **NOTE😉** :\n",
        " - **Using approximation can say all those data points that are x>20 and y>600 are outliers. The following code can fetch the exact position of all those points that satisfy these conditions.**"
      ]
    },
    {
      "cell_type": "code",
      "execution_count": null,
      "metadata": {
        "id": "ruA9p8AXvgYo",
        "outputId": "8e12fed6-3868-4f35-e450-7a9925ce573f"
      },
      "outputs": [
        {
          "name": "stdout",
          "output_type": "stream",
          "text": [
            "(array([488, 489, 490, 491, 492], dtype=int64),)\n"
          ]
        }
      ],
      "source": [
        "# Position of the Outlier\n",
        "print(np.where((df_boston['INDUS']>20) & (df_boston['TAX']>600)))\n"
      ]
    },
    {
      "cell_type": "markdown",
      "metadata": {
        "id": "4smpeqfMvgYo"
      },
      "source": [
        "## 2. *`Z-score`*\n",
        "---"
      ]
    },
    {
      "cell_type": "markdown",
      "metadata": {
        "id": "vq43EepTvgYo"
      },
      "source": [
        "Z- Score is also called a standard score. This value/score helps to understand that how far is the data point from the mean. And after setting up a threshold value one can utilize z score values of data points to define the outliers."
      ]
    },
    {
      "cell_type": "markdown",
      "metadata": {
        "id": "cG2QsJ2svgYo"
      },
      "source": [
        "**`Zscore = (data_point -mean) / std. deviation`**"
      ]
    },
    {
      "cell_type": "code",
      "execution_count": null,
      "metadata": {
        "id": "thfcd2mNvgYo"
      },
      "outputs": [],
      "source": [
        "# Z score\n",
        "from scipy import stats\n",
        "import numpy as np\n",
        "\n",
        "z = np.abs(stats.zscore(df_boston['DIS']))\n",
        "#print(z)\n"
      ]
    },
    {
      "cell_type": "markdown",
      "metadata": {
        "id": "90miW35ovgYp"
      },
      "source": [
        "The above output is just a snapshot of part of the data; the actual length of the list(z) is 506 that is the number of rows. It prints the z-score values of each data item of the column\n",
        "\n",
        "Now to define an outlier threshold value is chosen which is generally 3.0. As 99.7% of the data points lie between +/- 3 standard deviation (using Gaussian Distribution approach)."
      ]
    },
    {
      "cell_type": "code",
      "execution_count": null,
      "metadata": {
        "id": "v9K3WZIBvgYp",
        "outputId": "ce730379-b632-4cfb-cc9e-26b5cf981299"
      },
      "outputs": [
        {
          "name": "stdout",
          "output_type": "stream",
          "text": [
            "(array([351, 352, 353, 354, 355], dtype=int64),)\n"
          ]
        }
      ],
      "source": [
        "threshold = 3\n",
        "\n",
        "# Position of the outlier\n",
        "print(np.where(z > 3))\n"
      ]
    },
    {
      "cell_type": "markdown",
      "metadata": {
        "id": "eQdbASVevgYp"
      },
      "source": [
        "## 3. *`IQR` (Inter Quartile Range)*\n",
        "---\n",
        "\n",
        "IQR (Inter Quartile Range) Inter Quartile Range approach to finding the outliers is the most commonly used and most trusted approach used in the research field.\n",
        "\n",
        "**`IQR = Quartile3 – Quartile1`**"
      ]
    },
    {
      "cell_type": "code",
      "execution_count": null,
      "metadata": {
        "id": "xLRrakvuvgYp",
        "outputId": "0600dcff-b3a1-4060-ad16-39b491a35b19"
      },
      "outputs": [
        {
          "name": "stdout",
          "output_type": "stream",
          "text": [
            "3.0646000000000004\n"
          ]
        }
      ],
      "source": [
        "# IQR\n",
        "Q1 = np.percentile(df_boston['DIS'], 25,\n",
        "\t\t\t\tinterpolation = 'midpoint')\n",
        "\n",
        "Q3 = np.percentile(df_boston['DIS'], 75,\n",
        "\t\t\t\tinterpolation = 'midpoint')\n",
        "IQR = Q3 - Q1\n",
        "print(IQR)"
      ]
    },
    {
      "cell_type": "markdown",
      "metadata": {
        "id": "OglMOoahvgYp"
      },
      "source": [
        "To define the outlier base value is defined above and below datasets normal range namely Upper and Lower bounds, define the upper and the lower bound (1.5*IQR value is considered) :\n",
        "\n",
        "`upper = Q3 +1.5*IQR`\n",
        "\n",
        "`lower = Q1 – 1.5*IQR`\n",
        "\n",
        "In the above formula as according to statistics, the 0.5 scale-up of IQR (new_IQR = IQR + 0.5*IQR) is taken, to consider all the data between 2.7 standard deviations in the Gaussian Distribution."
      ]
    },
    {
      "cell_type": "code",
      "execution_count": null,
      "metadata": {
        "id": "OO0L_9GGvgYp",
        "outputId": "03ae1ca7-6c29-4f19-ac60-22115bb3f214"
      },
      "outputs": [
        {
          "name": "stdout",
          "output_type": "stream",
          "text": [
            "Highest allowed 9.76185\n"
          ]
        },
        {
          "data": {
            "text/html": [
              "<div>\n",
              "<style scoped>\n",
              "    .dataframe tbody tr th:only-of-type {\n",
              "        vertical-align: middle;\n",
              "    }\n",
              "\n",
              "    .dataframe tbody tr th {\n",
              "        vertical-align: top;\n",
              "    }\n",
              "\n",
              "    .dataframe thead th {\n",
              "        text-align: right;\n",
              "    }\n",
              "</style>\n",
              "<table border=\"1\" class=\"dataframe\">\n",
              "  <thead>\n",
              "    <tr style=\"text-align: right;\">\n",
              "      <th></th>\n",
              "      <th>CRIM</th>\n",
              "      <th>ZN</th>\n",
              "      <th>INDUS</th>\n",
              "      <th>CHAS</th>\n",
              "      <th>NOX</th>\n",
              "      <th>RM</th>\n",
              "      <th>AGE</th>\n",
              "      <th>DIS</th>\n",
              "      <th>RAD</th>\n",
              "      <th>TAX</th>\n",
              "      <th>PTRATIO</th>\n",
              "      <th>B</th>\n",
              "      <th>LSTAT</th>\n",
              "    </tr>\n",
              "  </thead>\n",
              "  <tbody>\n",
              "    <tr>\n",
              "      <th>351</th>\n",
              "      <td>0.07950</td>\n",
              "      <td>60.0</td>\n",
              "      <td>1.69</td>\n",
              "      <td>0.0</td>\n",
              "      <td>0.411</td>\n",
              "      <td>6.579</td>\n",
              "      <td>35.9</td>\n",
              "      <td>10.7103</td>\n",
              "      <td>4.0</td>\n",
              "      <td>411.0</td>\n",
              "      <td>18.3</td>\n",
              "      <td>370.78</td>\n",
              "      <td>5.49</td>\n",
              "    </tr>\n",
              "    <tr>\n",
              "      <th>352</th>\n",
              "      <td>0.07244</td>\n",
              "      <td>60.0</td>\n",
              "      <td>1.69</td>\n",
              "      <td>0.0</td>\n",
              "      <td>0.411</td>\n",
              "      <td>5.884</td>\n",
              "      <td>18.5</td>\n",
              "      <td>10.7103</td>\n",
              "      <td>4.0</td>\n",
              "      <td>411.0</td>\n",
              "      <td>18.3</td>\n",
              "      <td>392.33</td>\n",
              "      <td>7.79</td>\n",
              "    </tr>\n",
              "    <tr>\n",
              "      <th>353</th>\n",
              "      <td>0.01709</td>\n",
              "      <td>90.0</td>\n",
              "      <td>2.02</td>\n",
              "      <td>0.0</td>\n",
              "      <td>0.410</td>\n",
              "      <td>6.728</td>\n",
              "      <td>36.1</td>\n",
              "      <td>12.1265</td>\n",
              "      <td>5.0</td>\n",
              "      <td>187.0</td>\n",
              "      <td>17.0</td>\n",
              "      <td>384.46</td>\n",
              "      <td>4.50</td>\n",
              "    </tr>\n",
              "    <tr>\n",
              "      <th>354</th>\n",
              "      <td>0.04301</td>\n",
              "      <td>80.0</td>\n",
              "      <td>1.91</td>\n",
              "      <td>0.0</td>\n",
              "      <td>0.413</td>\n",
              "      <td>5.663</td>\n",
              "      <td>21.9</td>\n",
              "      <td>10.5857</td>\n",
              "      <td>4.0</td>\n",
              "      <td>334.0</td>\n",
              "      <td>22.0</td>\n",
              "      <td>382.80</td>\n",
              "      <td>8.05</td>\n",
              "    </tr>\n",
              "    <tr>\n",
              "      <th>355</th>\n",
              "      <td>0.10659</td>\n",
              "      <td>80.0</td>\n",
              "      <td>1.91</td>\n",
              "      <td>0.0</td>\n",
              "      <td>0.413</td>\n",
              "      <td>5.936</td>\n",
              "      <td>19.5</td>\n",
              "      <td>10.5857</td>\n",
              "      <td>4.0</td>\n",
              "      <td>334.0</td>\n",
              "      <td>22.0</td>\n",
              "      <td>376.04</td>\n",
              "      <td>5.57</td>\n",
              "    </tr>\n",
              "  </tbody>\n",
              "</table>\n",
              "</div>"
            ],
            "text/plain": [
              "        CRIM    ZN  INDUS  CHAS    NOX     RM   AGE      DIS  RAD    TAX  \\\n",
              "351  0.07950  60.0   1.69   0.0  0.411  6.579  35.9  10.7103  4.0  411.0   \n",
              "352  0.07244  60.0   1.69   0.0  0.411  5.884  18.5  10.7103  4.0  411.0   \n",
              "353  0.01709  90.0   2.02   0.0  0.410  6.728  36.1  12.1265  5.0  187.0   \n",
              "354  0.04301  80.0   1.91   0.0  0.413  5.663  21.9  10.5857  4.0  334.0   \n",
              "355  0.10659  80.0   1.91   0.0  0.413  5.936  19.5  10.5857  4.0  334.0   \n",
              "\n",
              "     PTRATIO       B  LSTAT  \n",
              "351     18.3  370.78   5.49  \n",
              "352     18.3  392.33   7.79  \n",
              "353     17.0  384.46   4.50  \n",
              "354     22.0  382.80   8.05  \n",
              "355     22.0  376.04   5.57  "
            ]
          },
          "execution_count": 10,
          "metadata": {},
          "output_type": "execute_result"
        }
      ],
      "source": [
        "# Above Upper bound\n",
        "x=(Q3+1.5*IQR)\n",
        "print(\"Highest allowed\", x)\n",
        "upper = df_boston[(df_boston['DIS'] >= x)]\n",
        "\n",
        "upper"
      ]
    },
    {
      "cell_type": "code",
      "execution_count": null,
      "metadata": {
        "id": "VwSQ0jAWvgYq",
        "outputId": "a3d619d2-4460-4661-cb94-28f2c3eb9fbb"
      },
      "outputs": [
        {
          "name": "stdout",
          "output_type": "stream",
          "text": [
            "-2.496550000000001\n"
          ]
        },
        {
          "data": {
            "text/html": [
              "<div>\n",
              "<style scoped>\n",
              "    .dataframe tbody tr th:only-of-type {\n",
              "        vertical-align: middle;\n",
              "    }\n",
              "\n",
              "    .dataframe tbody tr th {\n",
              "        vertical-align: top;\n",
              "    }\n",
              "\n",
              "    .dataframe thead th {\n",
              "        text-align: right;\n",
              "    }\n",
              "</style>\n",
              "<table border=\"1\" class=\"dataframe\">\n",
              "  <thead>\n",
              "    <tr style=\"text-align: right;\">\n",
              "      <th></th>\n",
              "      <th>CRIM</th>\n",
              "      <th>ZN</th>\n",
              "      <th>INDUS</th>\n",
              "      <th>CHAS</th>\n",
              "      <th>NOX</th>\n",
              "      <th>RM</th>\n",
              "      <th>AGE</th>\n",
              "      <th>DIS</th>\n",
              "      <th>RAD</th>\n",
              "      <th>TAX</th>\n",
              "      <th>PTRATIO</th>\n",
              "      <th>B</th>\n",
              "      <th>LSTAT</th>\n",
              "    </tr>\n",
              "  </thead>\n",
              "  <tbody>\n",
              "  </tbody>\n",
              "</table>\n",
              "</div>"
            ],
            "text/plain": [
              "Empty DataFrame\n",
              "Columns: [CRIM, ZN, INDUS, CHAS, NOX, RM, AGE, DIS, RAD, TAX, PTRATIO, B, LSTAT]\n",
              "Index: []"
            ]
          },
          "execution_count": 11,
          "metadata": {},
          "output_type": "execute_result"
        }
      ],
      "source": [
        "# Below Lower bound\n",
        "x= (Q1-1.5*IQR)\n",
        "print(x)\n",
        "lower = df_boston[(df_boston['DIS'] <= x)]\n",
        "\n",
        "lower\n"
      ]
    },
    {
      "cell_type": "markdown",
      "metadata": {
        "id": "rkRYNkoYvgYq"
      },
      "source": [
        "## *`Removing the Outliers`*\n",
        "---"
      ]
    },
    {
      "cell_type": "code",
      "execution_count": null,
      "metadata": {
        "id": "w8_bykjTvgYq",
        "outputId": "2cb0721d-74a2-479c-d47a-09076bda4e09"
      },
      "outputs": [
        {
          "name": "stdout",
          "output_type": "stream",
          "text": [
            "New Shape:  (501, 13)\n"
          ]
        },
        {
          "data": {
            "text/plain": [
              "<bound method NDFrame.describe of 0      4.0900\n",
              "1      4.9671\n",
              "2      4.9671\n",
              "3      6.0622\n",
              "4      6.0622\n",
              "        ...  \n",
              "501    2.4786\n",
              "502    2.2875\n",
              "503    2.1675\n",
              "504    2.3889\n",
              "505    2.5050\n",
              "Name: DIS, Length: 501, dtype: float64>"
            ]
          },
          "execution_count": 12,
          "metadata": {},
          "output_type": "execute_result"
        }
      ],
      "source": [
        "# Upper bound\n",
        "upper = np.where(df_boston['DIS'] >= (Q3+1.5*IQR))\n",
        "# Lower bound\n",
        "lower = np.where(df_boston['DIS'] <= (Q1-1.5*IQR))\n",
        "\n",
        "''' Removing the Outliers '''\n",
        "original_df = df_boston.copy() # deep copy\n",
        "df_boston.drop(upper[0], inplace = True)\n",
        "df_boston.drop(lower[0], inplace = True)\n",
        "\n",
        "print(\"New Shape: \", df_boston.shape)\n",
        "df_boston[\"DIS\"].describe"
      ]
    },
    {
      "cell_type": "markdown",
      "metadata": {
        "id": "QJ2_KVTnvgYq"
      },
      "source": [
        " **NOTE😉** :\n",
        " - Take a Look at Min and Max values"
      ]
    },
    {
      "cell_type": "code",
      "execution_count": null,
      "metadata": {
        "id": "4ckn-2FbvgYq",
        "outputId": "4a22a0b5-9ba2-4623-9e8a-07cf013bc72c"
      },
      "outputs": [
        {
          "data": {
            "text/plain": [
              "count    501.000000\n",
              "mean       3.723699\n",
              "std        1.989647\n",
              "min        1.129600\n",
              "25%        2.088200\n",
              "50%        3.152300\n",
              "75%        5.116700\n",
              "max        9.222900\n",
              "Name: DIS, dtype: float64"
            ]
          },
          "execution_count": 13,
          "metadata": {},
          "output_type": "execute_result"
        }
      ],
      "source": [
        "\n",
        "df_boston[\"DIS\"].describe()"
      ]
    },
    {
      "cell_type": "markdown",
      "metadata": {
        "id": "5elSRgvfvgYq"
      },
      "source": [
        "## *`Visualization of Outliers`*\n",
        "\n",
        "---"
      ]
    },
    {
      "cell_type": "code",
      "execution_count": null,
      "metadata": {
        "id": "pVPYe7dQvgYr",
        "outputId": "f8f720f3-9bea-44ad-8850-19bbfdf0e10d"
      },
      "outputs": [
        {
          "name": "stderr",
          "output_type": "stream",
          "text": [
            "C:\\Users\\Asset\\anaconda3\\lib\\site-packages\\seaborn\\distributions.py:2557: FutureWarning: `distplot` is a deprecated function and will be removed in a future version. Please adapt your code to use either `displot` (a figure-level function with similar flexibility) or `histplot` (an axes-level function for histograms).\n",
            "  warnings.warn(msg, FutureWarning)\n",
            "C:\\Users\\Asset\\anaconda3\\lib\\site-packages\\seaborn\\_decorators.py:36: FutureWarning: Pass the following variable as a keyword arg: x. From version 0.12, the only valid positional argument will be `data`, and passing other arguments without an explicit keyword will result in an error or misinterpretation.\n",
            "  warnings.warn(\n",
            "C:\\Users\\Asset\\anaconda3\\lib\\site-packages\\seaborn\\distributions.py:2557: FutureWarning: `distplot` is a deprecated function and will be removed in a future version. Please adapt your code to use either `displot` (a figure-level function with similar flexibility) or `histplot` (an axes-level function for histograms).\n",
            "  warnings.warn(msg, FutureWarning)\n",
            "C:\\Users\\Asset\\anaconda3\\lib\\site-packages\\seaborn\\_decorators.py:36: FutureWarning: Pass the following variable as a keyword arg: x. From version 0.12, the only valid positional argument will be `data`, and passing other arguments without an explicit keyword will result in an error or misinterpretation.\n",
            "  warnings.warn(\n"
          ]
        },
        {
          "data": {
            "image/png": "[encoded data removed]",
            "text/plain": [
              "<Figure size 1152x576 with 4 Axes>"
            ]
          },
          "metadata": {
            "needs_background": "light"
          },
          "output_type": "display_data"
        }
      ],
      "source": [
        "#import warnings\n",
        "#warnings.filterwarnings('ignore')\n",
        "plt.figure(figsize=(16,8))\n",
        "plt.subplot(2,2,1)\n",
        "sns.distplot(original_df['DIS'])\n",
        "plt.subplot(2,2,2)\n",
        "sns.boxplot(original_df['DIS'])\n",
        "plt.subplot(2,2,3)\n",
        "sns.distplot(df_boston['DIS'])\n",
        "plt.subplot(2,2,4)\n",
        "sns.boxplot(df_boston['DIS'])\n",
        "plt.show()"
      ]
    },
    {
      "cell_type": "code",
      "execution_count": null,
      "metadata": {
        "id": "BDZTBV49vgYr"
      },
      "outputs": [],
      "source": [
        "from sklearn.feature_selection import VarianceThreshold\n",
        "threshold_n=0.8\n",
        "sel = VarianceThreshold(threshold=(threshold_n* (1 - threshold_n) ))\n",
        "sel_var=sel.fit_transform(original_df)\n",
        "remov_low_var=original_df[original_df.columns[sel.get_support(indices=True)]]"
      ]
    },
    {
      "cell_type": "code",
      "execution_count": null,
      "metadata": {
        "id": "L43zmh3HvgYr",
        "outputId": "2a975ffb-2e89-4330-e97b-6018b2e04bd0"
      },
      "outputs": [
        {
          "data": {
            "text/html": [
              "<div>\n",
              "<style scoped>\n",
              "    .dataframe tbody tr th:only-of-type {\n",
              "        vertical-align: middle;\n",
              "    }\n",
              "\n",
              "    .dataframe tbody tr th {\n",
              "        vertical-align: top;\n",
              "    }\n",
              "\n",
              "    .dataframe thead th {\n",
              "        text-align: right;\n",
              "    }\n",
              "</style>\n",
              "<table border=\"1\" class=\"dataframe\">\n",
              "  <thead>\n",
              "    <tr style=\"text-align: right;\">\n",
              "      <th></th>\n",
              "      <th>CRIM</th>\n",
              "      <th>ZN</th>\n",
              "      <th>INDUS</th>\n",
              "      <th>RM</th>\n",
              "      <th>AGE</th>\n",
              "      <th>DIS</th>\n",
              "      <th>RAD</th>\n",
              "      <th>TAX</th>\n",
              "      <th>PTRATIO</th>\n",
              "      <th>B</th>\n",
              "      <th>LSTAT</th>\n",
              "    </tr>\n",
              "  </thead>\n",
              "  <tbody>\n",
              "    <tr>\n",
              "      <th>0</th>\n",
              "      <td>0.00632</td>\n",
              "      <td>18.0</td>\n",
              "      <td>2.31</td>\n",
              "      <td>6.575</td>\n",
              "      <td>65.2</td>\n",
              "      <td>4.0900</td>\n",
              "      <td>1.0</td>\n",
              "      <td>296.0</td>\n",
              "      <td>15.3</td>\n",
              "      <td>396.90</td>\n",
              "      <td>4.98</td>\n",
              "    </tr>\n",
              "    <tr>\n",
              "      <th>1</th>\n",
              "      <td>0.02731</td>\n",
              "      <td>0.0</td>\n",
              "      <td>7.07</td>\n",
              "      <td>6.421</td>\n",
              "      <td>78.9</td>\n",
              "      <td>4.9671</td>\n",
              "      <td>2.0</td>\n",
              "      <td>242.0</td>\n",
              "      <td>17.8</td>\n",
              "      <td>396.90</td>\n",
              "      <td>9.14</td>\n",
              "    </tr>\n",
              "    <tr>\n",
              "      <th>2</th>\n",
              "      <td>0.02729</td>\n",
              "      <td>0.0</td>\n",
              "      <td>7.07</td>\n",
              "      <td>7.185</td>\n",
              "      <td>61.1</td>\n",
              "      <td>4.9671</td>\n",
              "      <td>2.0</td>\n",
              "      <td>242.0</td>\n",
              "      <td>17.8</td>\n",
              "      <td>392.83</td>\n",
              "      <td>4.03</td>\n",
              "    </tr>\n",
              "    <tr>\n",
              "      <th>3</th>\n",
              "      <td>0.03237</td>\n",
              "      <td>0.0</td>\n",
              "      <td>2.18</td>\n",
              "      <td>6.998</td>\n",
              "      <td>45.8</td>\n",
              "      <td>6.0622</td>\n",
              "      <td>3.0</td>\n",
              "      <td>222.0</td>\n",
              "      <td>18.7</td>\n",
              "      <td>394.63</td>\n",
              "      <td>2.94</td>\n",
              "    </tr>\n",
              "    <tr>\n",
              "      <th>4</th>\n",
              "      <td>0.06905</td>\n",
              "      <td>0.0</td>\n",
              "      <td>2.18</td>\n",
              "      <td>7.147</td>\n",
              "      <td>54.2</td>\n",
              "      <td>6.0622</td>\n",
              "      <td>3.0</td>\n",
              "      <td>222.0</td>\n",
              "      <td>18.7</td>\n",
              "      <td>396.90</td>\n",
              "      <td>5.33</td>\n",
              "    </tr>\n",
              "    <tr>\n",
              "      <th>...</th>\n",
              "      <td>...</td>\n",
              "      <td>...</td>\n",
              "      <td>...</td>\n",
              "      <td>...</td>\n",
              "      <td>...</td>\n",
              "      <td>...</td>\n",
              "      <td>...</td>\n",
              "      <td>...</td>\n",
              "      <td>...</td>\n",
              "      <td>...</td>\n",
              "      <td>...</td>\n",
              "    </tr>\n",
              "    <tr>\n",
              "      <th>501</th>\n",
              "      <td>0.06263</td>\n",
              "      <td>0.0</td>\n",
              "      <td>11.93</td>\n",
              "      <td>6.593</td>\n",
              "      <td>69.1</td>\n",
              "      <td>2.4786</td>\n",
              "      <td>1.0</td>\n",
              "      <td>273.0</td>\n",
              "      <td>21.0</td>\n",
              "      <td>391.99</td>\n",
              "      <td>9.67</td>\n",
              "    </tr>\n",
              "    <tr>\n",
              "      <th>502</th>\n",
              "      <td>0.04527</td>\n",
              "      <td>0.0</td>\n",
              "      <td>11.93</td>\n",
              "      <td>6.120</td>\n",
              "      <td>76.7</td>\n",
              "      <td>2.2875</td>\n",
              "      <td>1.0</td>\n",
              "      <td>273.0</td>\n",
              "      <td>21.0</td>\n",
              "      <td>396.90</td>\n",
              "      <td>9.08</td>\n",
              "    </tr>\n",
              "    <tr>\n",
              "      <th>503</th>\n",
              "      <td>0.06076</td>\n",
              "      <td>0.0</td>\n",
              "      <td>11.93</td>\n",
              "      <td>6.976</td>\n",
              "      <td>91.0</td>\n",
              "      <td>2.1675</td>\n",
              "      <td>1.0</td>\n",
              "      <td>273.0</td>\n",
              "      <td>21.0</td>\n",
              "      <td>396.90</td>\n",
              "      <td>5.64</td>\n",
              "    </tr>\n",
              "    <tr>\n",
              "      <th>504</th>\n",
              "      <td>0.10959</td>\n",
              "      <td>0.0</td>\n",
              "      <td>11.93</td>\n",
              "      <td>6.794</td>\n",
              "      <td>89.3</td>\n",
              "      <td>2.3889</td>\n",
              "      <td>1.0</td>\n",
              "      <td>273.0</td>\n",
              "      <td>21.0</td>\n",
              "      <td>393.45</td>\n",
              "      <td>6.48</td>\n",
              "    </tr>\n",
              "    <tr>\n",
              "      <th>505</th>\n",
              "      <td>0.04741</td>\n",
              "      <td>0.0</td>\n",
              "      <td>11.93</td>\n",
              "      <td>6.030</td>\n",
              "      <td>80.8</td>\n",
              "      <td>2.5050</td>\n",
              "      <td>1.0</td>\n",
              "      <td>273.0</td>\n",
              "      <td>21.0</td>\n",
              "      <td>396.90</td>\n",
              "      <td>7.88</td>\n",
              "    </tr>\n",
              "  </tbody>\n",
              "</table>\n",
              "<p>506 rows × 11 columns</p>\n",
              "</div>"
            ],
            "text/plain": [
              "        CRIM    ZN  INDUS     RM   AGE     DIS  RAD    TAX  PTRATIO       B  \\\n",
              "0    0.00632  18.0   2.31  6.575  65.2  4.0900  1.0  296.0     15.3  396.90   \n",
              "1    0.02731   0.0   7.07  6.421  78.9  4.9671  2.0  242.0     17.8  396.90   \n",
              "2    0.02729   0.0   7.07  7.185  61.1  4.9671  2.0  242.0     17.8  392.83   \n",
              "3    0.03237   0.0   2.18  6.998  45.8  6.0622  3.0  222.0     18.7  394.63   \n",
              "4    0.06905   0.0   2.18  7.147  54.2  6.0622  3.0  222.0     18.7  396.90   \n",
              "..       ...   ...    ...    ...   ...     ...  ...    ...      ...     ...   \n",
              "501  0.06263   0.0  11.93  6.593  69.1  2.4786  1.0  273.0     21.0  391.99   \n",
              "502  0.04527   0.0  11.93  6.120  76.7  2.2875  1.0  273.0     21.0  396.90   \n",
              "503  0.06076   0.0  11.93  6.976  91.0  2.1675  1.0  273.0     21.0  396.90   \n",
              "504  0.10959   0.0  11.93  6.794  89.3  2.3889  1.0  273.0     21.0  393.45   \n",
              "505  0.04741   0.0  11.93  6.030  80.8  2.5050  1.0  273.0     21.0  396.90   \n",
              "\n",
              "     LSTAT  \n",
              "0     4.98  \n",
              "1     9.14  \n",
              "2     4.03  \n",
              "3     2.94  \n",
              "4     5.33  \n",
              "..     ...  \n",
              "501   9.67  \n",
              "502   9.08  \n",
              "503   5.64  \n",
              "504   6.48  \n",
              "505   7.88  \n",
              "\n",
              "[506 rows x 11 columns]"
            ]
          },
          "execution_count": 16,
          "metadata": {},
          "output_type": "execute_result"
        }
      ],
      "source": [
        "remov_low_var"
      ]
    },
    {
      "cell_type": "code",
      "execution_count": null,
      "metadata": {
        "id": "lWedkcXPvgYr",
        "outputId": "078ea443-1c13-4ab1-9f9f-5ff6826a0ce5"
      },
      "outputs": [
        {
          "data": {
            "text/plain": [
              "Index(['CRIM', 'ZN', 'INDUS', 'RM', 'AGE', 'DIS', 'RAD', 'TAX', 'PTRATIO', 'B',\n",
              "       'LSTAT'],\n",
              "      dtype='object')"
            ]
          },
          "execution_count": 17,
          "metadata": {},
          "output_type": "execute_result"
        }
      ],
      "source": [
        "remov_low_var.columns"
      ]
    },
    {
      "cell_type": "code",
      "execution_count": null,
      "metadata": {
        "id": "YAAnepJlvgYr",
        "outputId": "4f3cddd9-94d9-4465-c995-33ad4553b16e"
      },
      "outputs": [
        {
          "data": {
            "text/plain": [
              "Index(['CRIM', 'ZN', 'INDUS', 'CHAS', 'NOX', 'RM', 'AGE', 'DIS', 'RAD', 'TAX',\n",
              "       'PTRATIO', 'B', 'LSTAT'],\n",
              "      dtype='object')"
            ]
          },
          "execution_count": 18,
          "metadata": {},
          "output_type": "execute_result"
        }
      ],
      "source": [
        "original_df.columns"
      ]
    },
    {
      "cell_type": "code",
      "execution_count": null,
      "metadata": {
        "id": "BFXj5cKavgYw",
        "outputId": "38b1fac3-a8c9-4b1e-bf86-118596bfccde"
      },
      "outputs": [
        {
          "data": {
            "text/plain": [
              "CRIM         8.601545\n",
              "ZN          23.322453\n",
              "INDUS        6.860353\n",
              "CHAS         0.253994\n",
              "NOX          0.115878\n",
              "RM           0.702617\n",
              "AGE         28.148861\n",
              "DIS          2.105710\n",
              "RAD          8.707259\n",
              "TAX        168.537116\n",
              "PTRATIO      2.164946\n",
              "B           91.294864\n",
              "LSTAT        7.141062\n",
              "dtype: float64"
            ]
          },
          "execution_count": 19,
          "metadata": {},
          "output_type": "execute_result"
        }
      ],
      "source": [
        "original_df.std()"
      ]
    },
    {
      "cell_type": "code",
      "execution_count": null,
      "metadata": {
        "id": "XeL6se8RvgYw",
        "outputId": "9371c33b-d86f-4bd2-bb5a-7cea41b1f917"
      },
      "outputs": [
        {
          "name": "stderr",
          "output_type": "stream",
          "text": [
            "C:\\Users\\Asset\\anaconda3\\lib\\site-packages\\seaborn\\distributions.py:2557: FutureWarning: `distplot` is a deprecated function and will be removed in a future version. Please adapt your code to use either `displot` (a figure-level function with similar flexibility) or `histplot` (an axes-level function for histograms).\n",
            "  warnings.warn(msg, FutureWarning)\n",
            "C:\\Users\\Asset\\anaconda3\\lib\\site-packages\\seaborn\\distributions.py:2557: FutureWarning: `distplot` is a deprecated function and will be removed in a future version. Please adapt your code to use either `displot` (a figure-level function with similar flexibility) or `histplot` (an axes-level function for histograms).\n",
            "  warnings.warn(msg, FutureWarning)\n"
          ]
        },
        {
          "data": {
            "text/plain": [
              "<AxesSubplot:xlabel='CHAS', ylabel='Density'>"
            ]
          },
          "execution_count": 20,
          "metadata": {},
          "output_type": "execute_result"
        },
        {
          "data": {
            "image/png": "[encoded data removed]",
            "text/plain": [
              "<Figure size 1152x576 with 2 Axes>"
            ]
          },
          "metadata": {
            "needs_background": "light"
          },
          "output_type": "display_data"
        }
      ],
      "source": [
        "plt.figure(figsize=(16,8))\n",
        "plt.subplot(2,2,1)\n",
        "sns.distplot(original_df['NOX'])\n",
        "plt.subplot(2,2,2)\n",
        "sns.distplot(original_df['CHAS'])"
      ]
    },
    {
      "cell_type": "markdown",
      "metadata": {
        "id": "Ahr9nstcvgYw"
      },
      "source": [
        " ## **Usefull NOTES To Read 😉** :\n",
        " - If the variance is low or close to zero, then a feature is approximately constant and will not improve the performance of the model. In that case, it should be removed.\n",
        "\n",
        "- Or if only a handful of observations differ from a constant value, the variance will also be very low.\n",
        "\n",
        "- This situation, where a feature has been poorly evaluated, or brings little information because it is (almost) constant can be a justification to remove a column.\n",
        "\n",
        "- Otherwise, you have to set an arbitrarily variance threshold to determine which features to be remove. And, using the accuracy of the predictions as a result of a feature removal to prove that justification for feature removal is correct. Basically, its a trial and error.\n",
        "\n",
        "- The variance threshold calculation depends on the probability density function of a particular distribution. For example if a feature has a normal distribution, use normal variance.\n",
        "\n",
        "- Given in your problem statement, for a feature that has 95% or more variability, it is very close to zero. Hence, the feature will not help the performance of the model to predict the target. Therefore, it should be removed.\n",
        "\n",
        "Variance threshold for feature selection:\n",
        "\n",
        "- low variance features contains less information\n",
        "calculate variance of each feature, then drop features with variance below some threshold\n",
        "Example using the iris dataset:"
      ]
    }
  ],
  "metadata": {
    "interpreter": {
      "hash": "5dde93cac2cf5c7910681a8f0afb1bcf3f4bbba7fb52395b7c7c1f61f8989c7a"
    },
    "kernelspec": {
      "display_name": "Python 3 (ipykernel)",
      "language": "python",
      "name": "python3"
    },
    "language_info": {
      "codemirror_mode": {
        "name": "ipython",
        "version": 3
      },
      "file_extension": ".py",
      "mimetype": "text/x-python",
      "name": "python",
      "nbconvert_exporter": "python",
      "pygments_lexer": "ipython3",
      "version": "3.10.9"
    },
    "colab": {
      "provenance": []
    }
  },
  "nbformat": 4,
  "nbformat_minor": 0
}